{
 "cells": [
  {
   "cell_type": "code",
   "execution_count": 1,
   "id": "9a2b56f4-35de-43d0-9dcb-4760b1e3bc45",
   "metadata": {},
   "outputs": [],
   "source": [
    "import numpy as np\n",
    "import igraph as ig\n",
    "import matplotlib.pyplot as plt"
   ]
  },
  {
   "cell_type": "code",
   "execution_count": 3,
   "id": "68dcf086-19e8-4e44-8ea6-8375904020a3",
   "metadata": {},
   "outputs": [],
   "source": [
    "pop = 10000 # Population (Number of nodes)\n",
    "erG = ig.Graph.Erdos_Renyi(pop, m=5*pop)\n",
    "wsG = ig.Graph.Watts_Strogatz(dim=1, size=pop, nei=10, p=0.2)\n",
    "baG = ig.Graph.Barabasi(pop, m=12)"
   ]
  },
  {
   "cell_type": "code",
   "execution_count": null,
   "id": "1eee7ad1-4d09-44f5-b55e-523cb49f0f3b",
   "metadata": {},
   "outputs": [],
   "source": []
  }
 ],
 "metadata": {
  "kernelspec": {
   "display_name": "Python 3 (ipykernel)",
   "language": "python",
   "name": "python3"
  },
  "language_info": {
   "codemirror_mode": {
    "name": "ipython",
    "version": 3
   },
   "file_extension": ".py",
   "mimetype": "text/x-python",
   "name": "python",
   "nbconvert_exporter": "python",
   "pygments_lexer": "ipython3",
   "version": "3.10.12"
  }
 },
 "nbformat": 4,
 "nbformat_minor": 5
}
